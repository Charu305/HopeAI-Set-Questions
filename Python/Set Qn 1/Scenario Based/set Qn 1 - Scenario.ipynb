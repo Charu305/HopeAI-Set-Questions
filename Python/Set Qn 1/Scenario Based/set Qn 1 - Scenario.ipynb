{
 "cells": [
  {
   "cell_type": "code",
   "execution_count": null,
   "id": "46522c50-eef5-4308-a881-f1898cae4706",
   "metadata": {},
   "outputs": [],
   "source": [
    "# 1)A system checks if a user is eligible to vote based on their age.Write logic to ask the user for their age and determine if they are eligible to vote based on whether they are 18 or older."
   ]
  },
  {
   "cell_type": "raw",
   "id": "34421df0-9989-419a-a849-c7056ec1f437",
   "metadata": {},
   "source": [
    "Ask the user to enter their age.\n",
    "Check if the age is 18 or older.\n",
    "If yes, print \"Eligible to vote.\"\n",
    "Otherwise, print \"Not eligible to vote.\""
   ]
  },
  {
   "cell_type": "code",
   "execution_count": 4,
   "id": "b269fda8-5e22-4294-b82d-ddb5b8f1cce7",
   "metadata": {},
   "outputs": [
    {
     "name": "stdin",
     "output_type": "stream",
     "text": [
      "Enter ur age:  18\n"
     ]
    },
    {
     "name": "stdout",
     "output_type": "stream",
     "text": [
      "You are eligible to vote\n"
     ]
    }
   ],
   "source": [
    "age = int(input('Enter ur age: '))\n",
    "\n",
    "if (age>=18):\n",
    "    print('You are eligible to vote')\n",
    "else:\n",
    "    print('You are not eligible to vote')"
   ]
  },
  {
   "cell_type": "code",
   "execution_count": null,
   "id": "ba709b4b-079c-4fe2-936b-e0bac788b98e",
   "metadata": {},
   "outputs": [],
   "source": [
    "# 2)A program processes a list of numbers and needs to find the largest value.Write logic to identify and return the largest number from a given list."
   ]
  },
  {
   "cell_type": "raw",
   "id": "9da00831-fe91-4d6f-9517-1006d860a50b",
   "metadata": {},
   "source": [
    "Read the list of numbers.\n",
    "Use Max function to print the large number in the list.\n",
    "print the largest number."
   ]
  },
  {
   "cell_type": "code",
   "execution_count": 6,
   "id": "57f8af57-8cc0-4a21-9d21-dd3af7bf2d3f",
   "metadata": {},
   "outputs": [
    {
     "name": "stdout",
     "output_type": "stream",
     "text": [
      "The largest number is: 78\n"
     ]
    }
   ],
   "source": [
    "numbers = [4, 78, 11, 36, 9]\n",
    "largest = max(numbers)\n",
    "print(\"The largest number is:\", largest)"
   ]
  },
  {
   "cell_type": "code",
   "execution_count": null,
   "id": "6a2fc4ec-0f72-4bc8-b394-18fe26e7c996",
   "metadata": {},
   "outputs": [],
   "source": [
    "# 3) A company provides employees with a 10% bonus if their salary exceeds $50,000.\n",
    "# Write logic to determine the bonus amount based on the given salary"
   ]
  },
  {
   "cell_type": "raw",
   "id": "173bba41-f38c-4a0d-8793-108d87069b8a",
   "metadata": {},
   "source": [
    "Read the employee's salary.\n",
    "If the salary is greater than $50,000, calculate a 10% bonus.\n",
    "Otherwise, set the bonus to zero.\n",
    "Return the calculated bonus amount"
   ]
  },
  {
   "cell_type": "code",
   "execution_count": 7,
   "id": "644a0178-e4d7-44ff-a855-b89d72ed6c13",
   "metadata": {},
   "outputs": [
    {
     "name": "stdin",
     "output_type": "stream",
     "text": [
      "Enter your salary:  51000\n"
     ]
    },
    {
     "name": "stdout",
     "output_type": "stream",
     "text": [
      "5000.0\n"
     ]
    }
   ],
   "source": [
    "salary = float(input('Enter your salary: '))\n",
    "\n",
    "if salary > 50000:\n",
    "    bonus = 0.10 * 50000\n",
    "else:\n",
    "    bonus = 0\n",
    "\n",
    "print (bonus)"
   ]
  },
  {
   "cell_type": "code",
   "execution_count": null,
   "id": "1a29d87c-3710-48e5-812c-ef845c5a3f70",
   "metadata": {},
   "outputs": [],
   "source": [
    "# 4) A program evaluates a number to determine if it is even or odd.\n",
    " # Write logic to check whether a given number is even or odd."
   ]
  },
  {
   "cell_type": "raw",
   "id": "c6c82680-3832-4336-86a5-930c8443c644",
   "metadata": {},
   "source": [
    "Read the input number.\n",
    "Check if the number is divisible by 2.\n",
    "If yes, print \"Even.\"\n",
    "Otherwise, print \"Odd.\""
   ]
  },
  {
   "cell_type": "code",
   "execution_count": 8,
   "id": "6a7d23ac-de17-4475-ac84-1765ec22d288",
   "metadata": {},
   "outputs": [
    {
     "name": "stdin",
     "output_type": "stream",
     "text": [
      "Enter ur num:  4\n"
     ]
    },
    {
     "name": "stdout",
     "output_type": "stream",
     "text": [
      "Num is even\n"
     ]
    }
   ],
   "source": [
    "num = int(input('Enter ur num: '))\n",
    "\n",
    "if (num%2==0):\n",
    "    print ('Num is even')\n",
    "else:\n",
    "    print ('Num is odd')"
   ]
  },
  {
   "cell_type": "code",
   "execution_count": null,
   "id": "c814f68a-fc4d-477b-9e31-bb020c64f58e",
   "metadata": {},
   "outputs": [],
   "source": [
    "# 5) A text-processing tool reverses a given word or sentence for formatting purposes.\n",
    "# Write logic to take a word or sentence as input and produce its reversed version."
   ]
  },
  {
   "cell_type": "raw",
   "id": "18174316-a0eb-4adb-b1c2-e97a959cbd14",
   "metadata": {},
   "source": [
    "Read the input word or sentence.\n",
    "Reverse the order of characters.\n",
    "Return the reversed word or sentence."
   ]
  },
  {
   "cell_type": "code",
   "execution_count": 9,
   "id": "81d74801-6924-4a4b-8f42-56e19f27f645",
   "metadata": {},
   "outputs": [
    {
     "name": "stdin",
     "output_type": "stream",
     "text": [
      "Enter the statement:  world\n"
     ]
    },
    {
     "name": "stdout",
     "output_type": "stream",
     "text": [
      "dlrow\n"
     ]
    }
   ],
   "source": [
    "stmt= input('Enter the statement: ')\n",
    "\n",
    "rversed_word = stmt [::-1]\n",
    "print (rversed_word)"
   ]
  },
  {
   "cell_type": "code",
   "execution_count": null,
   "id": "b6223f04-519a-48e7-94b0-0e27b58d5a37",
   "metadata": {},
   "outputs": [],
   "source": [
    "# 6)  A grading system determines whether a student has passed or failed based on their score.\n",
    " # Write logic to check if a student has passed a subject by scoring at least 40 marks."
   ]
  },
  {
   "cell_type": "raw",
   "id": "a693486e-58fb-48e0-a1ca-795791b2b703",
   "metadata": {},
   "source": [
    "Read the student's marks.\n",
    "If the marks are 40 or above, print \"Pass.\"\n",
    "Otherwise, print \"Fail.\""
   ]
  },
  {
   "cell_type": "code",
   "execution_count": 10,
   "id": "5f3d2b4e-7d3b-4edf-ac38-9a7324891a15",
   "metadata": {},
   "outputs": [
    {
     "name": "stdin",
     "output_type": "stream",
     "text": [
      "Enter ur mark:  34\n"
     ]
    },
    {
     "name": "stdout",
     "output_type": "stream",
     "text": [
      "Failed\n"
     ]
    }
   ],
   "source": [
    "mark = int(input('Enter ur mark: '))\n",
    "\n",
    "if (mark >=40):\n",
    "    print('Passed')\n",
    "else:\n",
    "    print ('Failed')"
   ]
  },
  {
   "cell_type": "code",
   "execution_count": null,
   "id": "0a095bfe-3039-4143-8a18-66140d82dea2",
   "metadata": {},
   "outputs": [],
   "source": [
    "# 7) A retail store offers a 20% discount if a customer’s total order exceeds $100. Write logic to calculate the final amount to be paid after applying the discount"
   ]
  },
  {
   "cell_type": "raw",
   "id": "e758e4ed-9ad8-443d-814f-1fbb6c60ac7d",
   "metadata": {},
   "source": [
    "Read the total order amount.\n",
    "If the amount is more than $100, calculate a 20% discount.\n",
    "Subtract the discount from the total amount.\n",
    "Return the final amount to be paid."
   ]
  },
  {
   "cell_type": "code",
   "execution_count": 11,
   "id": "ac02d8c3-806d-475c-9216-ea5fc3c8d422",
   "metadata": {},
   "outputs": [
    {
     "name": "stdin",
     "output_type": "stream",
     "text": [
      "Enter your price:  101\n"
     ]
    },
    {
     "name": "stdout",
     "output_type": "stream",
     "text": [
      "81.0\n"
     ]
    }
   ],
   "source": [
    "price = float(input('Enter your price: '))\n",
    "\n",
    "if price > 100:\n",
    "    discount = 0.20 * 100\n",
    "    final = price - discount\n",
    "\n",
    "\n",
    "print (final)"
   ]
  },
  {
   "cell_type": "code",
   "execution_count": null,
   "id": "a7dc1c44-1866-4168-9047-9679a9fda2e0",
   "metadata": {},
   "outputs": [],
   "source": [
    "\n",
    "# 8) Write logic to check if a user has enough balance before allowing a withdrawal and update the remaining balance accordingly."
   ]
  },
  {
   "cell_type": "raw",
   "id": "08313f1a-258c-4100-a218-f821b429f306",
   "metadata": {},
   "source": [
    "Read the account balance and withdrawal amount.\n",
    "If the withdrawal amount is less than or equal to the balance, process the withdrawal.\n",
    "Subtract the withdrawal amount from the balance and return the updated balance.\n",
    "If the withdrawal amount exceeds the balance, print \"Insufficient funds.\""
   ]
  },
  {
   "cell_type": "code",
   "execution_count": 14,
   "id": "275fdf0f-3a17-43f6-957a-8de8795fe4bd",
   "metadata": {},
   "outputs": [
    {
     "name": "stdin",
     "output_type": "stream",
     "text": [
      "Enter your balance:  10000\n",
      "Enter your withdrawal:  500\n"
     ]
    },
    {
     "name": "stdout",
     "output_type": "stream",
     "text": [
      "Remaining balance: 9500.0\n"
     ]
    }
   ],
   "source": [
    "balance = float(input('Enter your balance: '))\n",
    "\n",
    "withdrawal = float(input('Enter your withdrawal: '))\n",
    "\n",
    "if withdrawal <= balance:\n",
    "    balance -=withdrawal\n",
    "    print(\"Remaining balance:\", balance)\n",
    "else:\n",
    "    print(\"Insufficient balance! Withdrawal denied.\")"
   ]
  },
  {
   "cell_type": "code",
   "execution_count": null,
   "id": "e0f2424a-6f09-4c89-b070-d21474540ba7",
   "metadata": {},
   "outputs": [],
   "source": [
    "# 9) A calendar system verifies whether a given year is a leap year based on standard leap year rules.\n",
    " #Write logic to determine whether a given year is a leap year"
   ]
  },
  {
   "cell_type": "raw",
   "id": "3c5e981c-6f0c-4597-a7af-20dd85b72507",
   "metadata": {},
   "source": [
    "Read the input year.\n",
    "If the year is divisible by 400 or 4, it is a leap year.\n",
    "Otherwise, it is not a leap year."
   ]
  },
  {
   "cell_type": "code",
   "execution_count": 17,
   "id": "446c54e2-db68-4c95-8903-456049940d6d",
   "metadata": {},
   "outputs": [
    {
     "name": "stdin",
     "output_type": "stream",
     "text": [
      "Enter year:  2004\n"
     ]
    },
    {
     "name": "stdout",
     "output_type": "stream",
     "text": [
      "it is a leap year\n"
     ]
    }
   ],
   "source": [
    "year = int (input('Enter year: '))\n",
    "\n",
    "if (year % 4 == 0 & year % 400 ==0):\n",
    "    print ('it is a leap year')\n",
    "else :\n",
    "    print ('It is not leap year')"
   ]
  },
  {
   "cell_type": "code",
   "execution_count": null,
   "id": "2358b2a9-794d-43bd-bfa1-3533a6c1320f",
   "metadata": {},
   "outputs": [],
   "source": [
    "# 10.A program filters out only even numbers from a given list.\n",
    " # Write logic to extract and return only the even numbers from a list."
   ]
  },
  {
   "cell_type": "raw",
   "id": "2727b35f-046f-4950-b11a-8d7d282554f7",
   "metadata": {},
   "source": [
    "Read the list of numbers.\n",
    "Create an empty list to store even numbers.\n",
    "Iterate through the list and check if each number is divisible by 2.\n",
    "If divisible, add the number to the new list.\n",
    "Return the list of even numbers."
   ]
  },
  {
   "cell_type": "code",
   "execution_count": 20,
   "id": "8a639fee-dc76-405b-b3db-69d6f15c6074",
   "metadata": {},
   "outputs": [
    {
     "name": "stdout",
     "output_type": "stream",
     "text": [
      "[10, 30, 4]\n"
     ]
    }
   ],
   "source": [
    "list = [10,5,30,7,9,4]\n",
    "\n",
    "even=[]\n",
    "\n",
    "for i in list:\n",
    "    if i%2==0:\n",
    "        even.append(i)\n",
    "\n",
    "print(even)"
   ]
  },
  {
   "cell_type": "code",
   "execution_count": null,
   "id": "da9ef639-78b7-49a0-abe6-df616f16b0aa",
   "metadata": {},
   "outputs": [],
   "source": []
  }
 ],
 "metadata": {
  "kernelspec": {
   "display_name": "Python 3 (ipykernel)",
   "language": "python",
   "name": "python3"
  },
  "language_info": {
   "codemirror_mode": {
    "name": "ipython",
    "version": 3
   },
   "file_extension": ".py",
   "mimetype": "text/x-python",
   "name": "python",
   "nbconvert_exporter": "python",
   "pygments_lexer": "ipython3",
   "version": "3.12.4"
  }
 },
 "nbformat": 4,
 "nbformat_minor": 5
}
