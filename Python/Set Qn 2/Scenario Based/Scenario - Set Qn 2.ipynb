{
 "cells": [
  {
   "cell_type": "code",
   "execution_count": null,
   "id": "ad585480-32ab-414e-804b-63a3a22aa150",
   "metadata": {},
   "outputs": [],
   "source": [
    "# 1) You are developing a banking application that categorizes transactions based on the amount entered.\n",
    "# Write logic to determine whether the amount is positive, negative, or zero."
   ]
  },
  {
   "cell_type": "raw",
   "id": "aea13812-b014-498b-b96b-50686ce1b0df",
   "metadata": {},
   "source": [
    "Read the input number.\n",
    "If the number is greater than 0, print \"Positive (Deposit)\".\n",
    "Else if the number is less than 0, print \"Negative (Withdrawal)\".\n",
    "Else, print \"Zero (No Transaction)\"."
   ]
  },
  {
   "cell_type": "code",
   "execution_count": 7,
   "id": "24422e46-8576-451e-be3c-9a50b83b1350",
   "metadata": {},
   "outputs": [
    {
     "name": "stdin",
     "output_type": "stream",
     "text": [
      "Enter ur amt:  9\n"
     ]
    },
    {
     "name": "stdout",
     "output_type": "stream",
     "text": [
      "amt is positive\n"
     ]
    }
   ],
   "source": [
    "amt = float(input('Enter ur amt: '))\n",
    "\n",
    "if (amt > 0):\n",
    "    print ('amt is positive')\n",
    "elif (amt == 0):\n",
    "    print ('amt is zero')\n",
    "else:\n",
    "    print ('amt is negative')"
   ]
  },
  {
   "cell_type": "code",
   "execution_count": null,
   "id": "3ed5db0e-5a6f-4e58-801c-80d16f53751c",
   "metadata": {},
   "outputs": [],
   "source": [
    "# 2) A digital locker requires users to enter a numerical passcode. As part of a security feature, the system checks the sum of the digits of the passcode.\n",
    "# Write logic to compute the sum of the digits of a given number."
   ]
  },
  {
   "cell_type": "raw",
   "id": "9c2887e9-a923-4a8b-9ebe-7161d95dc43a",
   "metadata": {},
   "source": [
    "Read the input number.\n",
    "Convert the number into individual digits.\n",
    "For each digit in the number, add it.\n",
    "Print the sum of the digits."
   ]
  },
  {
   "cell_type": "code",
   "execution_count": 12,
   "id": "e4436f46-69d2-4da4-a589-ab7e1926cfc7",
   "metadata": {},
   "outputs": [
    {
     "name": "stdin",
     "output_type": "stream",
     "text": [
      "Enter ur Passcode:  4544\n"
     ]
    },
    {
     "name": "stdout",
     "output_type": "stream",
     "text": [
      "Sum of digits: 17\n"
     ]
    }
   ],
   "source": [
    "passcode = (input('Enter ur Passcode: '))\n",
    "\n",
    "Total = sum(int(num) for num in passcode)\n",
    "\n",
    "print(\"Sum of digits:\" ,Total)"
   ]
  },
  {
   "cell_type": "code",
   "execution_count": null,
   "id": "8afc0ec8-aa3e-4bfd-9dc6-ea63ae85ae4e",
   "metadata": {},
   "outputs": [],
   "source": [
    "# 3)A mobile payment app uses a simple checksum validation where reversing a transaction ID helps detect fraud.\n",
    " #Write logic to take a number and return its reverse."
   ]
  },
  {
   "cell_type": "raw",
   "id": "30e2f6cc-eda4-40e3-8803-bb78101694d0",
   "metadata": {},
   "source": [
    "Read the input number.\n",
    "Reverse the string.\n",
    "Print the reversed number."
   ]
  },
  {
   "cell_type": "code",
   "execution_count": 20,
   "id": "a7375b6d-5ffb-4a3f-8ad6-84003cb24fe8",
   "metadata": {},
   "outputs": [
    {
     "name": "stdin",
     "output_type": "stream",
     "text": [
      "Enter the ID:  123456\n"
     ]
    },
    {
     "name": "stdout",
     "output_type": "stream",
     "text": [
      "654321\n"
     ]
    }
   ],
   "source": [
    "ID =  input('Enter the ID: ')\n",
    "\n",
    "num = ID [::-1]\n",
    "\n",
    "print(num)"
   ]
  },
  {
   "cell_type": "code",
   "execution_count": null,
   "id": "6195c4c5-c88d-4e3c-b5a5-c372191b353b",
   "metadata": {},
   "outputs": [],
   "source": [
    "# 4)In a secure login system, certain features are enabled only for users with prime-numbered user IDs.\n",
    " # Write logic to check if a given number is prime."
   ]
  },
  {
   "cell_type": "raw",
   "id": "e99c742f-9a56-4851-84f8-9227188b5a07",
   "metadata": {},
   "source": [
    "Read the input number.\n",
    "If the number is less than 2, print \"Not Prime\".\n",
    "Loop from 2 to the square root of the number:\n",
    "If the number is divisible by any of these values, print \"Not Prime\" and exit.\n",
    "If no divisors are found, print \"Prime\"."
   ]
  },
  {
   "cell_type": "code",
   "execution_count": 43,
   "id": "29320091-9619-490e-8552-c27b7f5c545a",
   "metadata": {},
   "outputs": [
    {
     "name": "stdin",
     "output_type": "stream",
     "text": [
      "Enter a number:  2\n"
     ]
    },
    {
     "name": "stdout",
     "output_type": "stream",
     "text": [
      "2 is a prime number.\n"
     ]
    }
   ],
   "source": [
    "num = int(input(\"Enter a number: \"))\n",
    "\n",
    "if num <= 1:\n",
    "    print(num, \"is not a prime number.\")\n",
    "else:\n",
    "    is_prime = True\n",
    "    for i in range(2, int(num **0.5) + 1):  # check divisibility up to sqrt(num)\n",
    "        print(num **0.5)\n",
    "        if num % i == 0:\n",
    "            is_prime = False\n",
    "            break\n",
    "\n",
    "    if is_prime:\n",
    "        print(num, \"is a prime number.\")\n",
    "    else:\n",
    "        print(num, \"is not a prime number.\")\n"
   ]
  },
  {
   "cell_type": "code",
   "execution_count": null,
   "id": "4e198e02-cd72-4956-b6ca-edc04c4d19e4",
   "metadata": {},
   "outputs": [],
   "source": [
    "# 5) A scientist is working on permutations and needs to calculate the factorial of numbers frequently.\n",
    " # Write logic to find the factorial of a given number using recursion."
   ]
  },
  {
   "cell_type": "raw",
   "id": "134624e8-6d2a-40c7-bedd-8d8d8a5b92c8",
   "metadata": {},
   "source": [
    "Read the input number.\n",
    "If the number is 0 or 1, return 1.\n",
    "Else, return the number multiplied by the factorial of (number - 1).\n",
    "Print the result."
   ]
  },
  {
   "cell_type": "code",
   "execution_count": 28,
   "id": "4b88edeb-e153-4ef7-a3bb-419e27a5215b",
   "metadata": {},
   "outputs": [
    {
     "name": "stdin",
     "output_type": "stream",
     "text": [
      "Enter a number to find its factorial:  8\n"
     ]
    },
    {
     "name": "stdout",
     "output_type": "stream",
     "text": [
      "Factorial of 8 is 40320\n"
     ]
    }
   ],
   "source": [
    "def factorial(n):\n",
    "    if n == 0 or n == 1:\n",
    "        return 1\n",
    "    else:\n",
    "        return n * factorial(n - 1)\n",
    "\n",
    "num = int(input(\"Enter a number to find its factorial: \"))\n",
    "\n",
    "if num < 0:\n",
    "    print(\"Factorial is not defined for negative numbers.\")\n",
    "else:\n",
    "    print(\"Factorial of\", num, \"is\", factorial(num))"
   ]
  },
  {
   "cell_type": "code",
   "execution_count": null,
   "id": "0f89223b-1e7b-4567-b192-d33ee300aa50",
   "metadata": {},
   "outputs": [],
   "source": [
    "# 6) A unique lottery system assigns ticket numbers where only Armstrong numbers win the jackpot.\n",
    "# Write logic to check whether a given number is an Armstrong number."
   ]
  },
  {
   "cell_type": "raw",
   "id": "2948a7a2-772a-42d4-9ce0-e3e2b7959e77",
   "metadata": {},
   "source": [
    "Read the input number.\n",
    "Count the number of digits.\n",
    "Initialize a sum variable to 0.\n",
    "For each digit in the number:\n",
    "Raise the digit to the power of the total number of digits.\n",
    "Add the result to the sum variable.\n",
    "If the sum is equal to the original number, print \"Armstrong Number\".\n",
    "Else, print \"Not an Armstrong Number\"."
   ]
  },
  {
   "cell_type": "code",
   "execution_count": 41,
   "id": "bd16210d-5d40-4e8f-a485-95925554a7de",
   "metadata": {},
   "outputs": [
    {
     "name": "stdin",
     "output_type": "stream",
     "text": [
      "Enter a number:  153\n"
     ]
    },
    {
     "name": "stdout",
     "output_type": "stream",
     "text": [
      "153 is an Armstrong number.\n"
     ]
    }
   ],
   "source": [
    "num = int(input(\"Enter a number: \"))\n",
    "original = num\n",
    "sum1 = 0\n",
    "\n",
    "# Count digits\n",
    "n = len(str(num))\n",
    "\n",
    "while num > 0:\n",
    "    digit = num % 10\n",
    "    sum1 += digit ** n\n",
    "    num = num // 10\n",
    "\n",
    "if sum1 == original:\n",
    "    print(original, \"is an Armstrong number.\")\n",
    "else:\n",
    "    print(original, \"is not an Armstrong number.\")"
   ]
  },
  {
   "cell_type": "code",
   "execution_count": null,
   "id": "84e3083c-0087-45a5-8fca-1d8e848ab97f",
   "metadata": {},
   "outputs": [],
   "source": [
    "# 7) A password manager needs to strengthen weak passwords by swapping the first and last characters of user-generated passwords.\n",
    "#  Write logic to perform this operation on a given string.\n"
   ]
  },
  {
   "cell_type": "raw",
   "id": "e5f04bba-16d1-4b85-bac8-db1eee0e33a8",
   "metadata": {},
   "source": [
    "Read the input string.\n",
    "If the string length is less than 2, print the string as is.\n",
    "Swap the first and last characters while keeping the middle part unchanged.\n",
    "Print the modified string."
   ]
  },
  {
   "cell_type": "code",
   "execution_count": 42,
   "id": "e3ed2986-3c66-4864-b314-10b5935cb8d4",
   "metadata": {},
   "outputs": [
    {
     "name": "stdin",
     "output_type": "stream",
     "text": [
      "Enter a password:  world\n"
     ]
    },
    {
     "name": "stdout",
     "output_type": "stream",
     "text": [
      "Strengthened password: dorlw\n"
     ]
    }
   ],
   "source": [
    "password = input(\"Enter a password: \")\n",
    "\n",
    "if len(password) <= 1:\n",
    "    print(\"Strengthened password:\", password)\n",
    "else:\n",
    "    swapped = password[-1] + password[1:-1] + password[0]\n",
    "    print(\"Strengthened password:\", swapped)"
   ]
  },
  {
   "cell_type": "code",
   "execution_count": null,
   "id": "90882548-8b3f-4bbc-87f3-ac00d63801f1",
   "metadata": {},
   "outputs": [],
   "source": [
    "# 8) A low-level networking application requires decimal numbers to be converted into binary format before transmission.\n",
    " # Write logic to convert a given decimal number into its binary equivalent."
   ]
  },
  {
   "cell_type": "raw",
   "id": "c17626f0-a473-4f79-ab5b-6e94aa823f98",
   "metadata": {},
   "source": [
    "Read the input decimal number.\n",
    "Initialize an empty string for binary representation.\n",
    "While the number is greater than 0:\n",
    "Divide the number by 2 and store the remainder.\n",
    "Add the remainder to the binary string.\n",
    "Update the number by dividing it by 2.\n",
    "Reverse the binary string.\n",
    "Print the binary representation."
   ]
  },
  {
   "cell_type": "code",
   "execution_count": 33,
   "id": "f5955296-3206-4940-bc0d-124fd3d32042",
   "metadata": {},
   "outputs": [
    {
     "name": "stdin",
     "output_type": "stream",
     "text": [
      "Enter a decimal number:  10\n"
     ]
    },
    {
     "name": "stdout",
     "output_type": "stream",
     "text": [
      "Binary equivalent: 1010\n"
     ]
    }
   ],
   "source": [
    "decimal = int(input(\"Enter a decimal number: \"))\n",
    "binary = \"\"\n",
    "\n",
    "if decimal == 0:\n",
    "    binary = \"0\"\n",
    "else:\n",
    "    while decimal > 0:\n",
    "        remainder = decimal % 2\n",
    "        binary = str(remainder) + binary \n",
    "        decimal = decimal // 2\n",
    "\n",
    "print(\"Binary equivalent:\", binary)"
   ]
  },
  {
   "cell_type": "code",
   "execution_count": null,
   "id": "4b1b2fa6-6e6d-4595-8499-a5682dfee3d9",
   "metadata": {},
   "outputs": [],
   "source": [
    "# 9) A text-processing tool helps summarize articles by identifying the most significant words.\n",
    " # Write logic to find the longest word in a sentence."
   ]
  },
  {
   "cell_type": "raw",
   "id": "a94aedb7-f87c-43ab-8a2d-03da72704efc",
   "metadata": {},
   "source": [
    "Read the input sentence.\n",
    "Split the sentence into individual words.\n",
    "Initialize a variable to store the longest word.\n",
    "Loop through each word:\n",
    "if the current word is longer than the stored longest word, update the longest word.\n",
    "Print the longest word."
   ]
  },
  {
   "cell_type": "code",
   "execution_count": 34,
   "id": "d68cb29f-1313-4b97-a83a-8a932b91754c",
   "metadata": {},
   "outputs": [
    {
     "name": "stdin",
     "output_type": "stream",
     "text": [
      "Enter a sentence:  python programming is easy\n"
     ]
    },
    {
     "name": "stdout",
     "output_type": "stream",
     "text": [
      "The longest word is: programming\n"
     ]
    }
   ],
   "source": [
    "\n",
    "sentence = input(\"Enter a sentence: \")\n",
    "\n",
    "# Split the sentence into words\n",
    "words = sentence.split()\n",
    "\n",
    "# Find the longest word\n",
    "longest_word = max(words, key=len)\n",
    "\n",
    "print(\"The longest word is:\", longest_word)"
   ]
  },
  {
   "cell_type": "code",
   "execution_count": null,
   "id": "1ca4b66c-d653-4cc0-bdbf-b39d54ec33d1",
   "metadata": {},
   "outputs": [],
   "source": [
    "# 10) A plagiarism detection tool compares words from different documents and checks if they are anagrams (same characters but different order).\n",
    "# Write logic to check whether two given strings are anagrams."
   ]
  },
  {
   "cell_type": "raw",
   "id": "db4da002-532a-41f0-ad7d-eb814e1f8ded",
   "metadata": {},
   "source": [
    "Read the two input strings.\n",
    "Remove spaces and convert both strings to lowercase.\n",
    "Sort the characters of both strings.\n",
    "If the sorted versions of both strings are identical, print \"Anagram\".\n",
    "Else, print \"Not an Anagram\"."
   ]
  },
  {
   "cell_type": "code",
   "execution_count": 36,
   "id": "8839fa07-7b1e-44ce-b8d6-0b5575dd18c7",
   "metadata": {},
   "outputs": [
    {
     "name": "stdin",
     "output_type": "stream",
     "text": [
      "Enter the first string:  listen\n",
      "Enter the second string:  silent\n"
     ]
    },
    {
     "name": "stdout",
     "output_type": "stream",
     "text": [
      "✅ The strings are anagrams.\n"
     ]
    }
   ],
   "source": [
    "def are_anagrams(str1, str2):\n",
    "    # Remove spaces and convert to lowercase for fair comparison\n",
    "    str1 = str1.replace(\" \", \"\").lower()\n",
    "    str2 = str2.replace(\" \", \"\").lower()\n",
    "\n",
    "    return sorted(str1) == sorted(str2)\n",
    "\n",
    "# Example usage\n",
    "string1 = input(\"Enter the first string: \")\n",
    "string2 = input(\"Enter the second string: \")\n",
    "\n",
    "if are_anagrams(string1, string2):\n",
    "    print(\"✅ The strings are anagrams.\")\n",
    "else:\n",
    "    print(\"❌ The strings are not anagrams.\")"
   ]
  },
  {
   "cell_type": "code",
   "execution_count": null,
   "id": "00cbd48d-e36d-4395-a013-166b603ae322",
   "metadata": {},
   "outputs": [],
   "source": []
  }
 ],
 "metadata": {
  "kernelspec": {
   "display_name": "Python 3 (ipykernel)",
   "language": "python",
   "name": "python3"
  },
  "language_info": {
   "codemirror_mode": {
    "name": "ipython",
    "version": 3
   },
   "file_extension": ".py",
   "mimetype": "text/x-python",
   "name": "python",
   "nbconvert_exporter": "python",
   "pygments_lexer": "ipython3",
   "version": "3.12.4"
  }
 },
 "nbformat": 4,
 "nbformat_minor": 5
}
