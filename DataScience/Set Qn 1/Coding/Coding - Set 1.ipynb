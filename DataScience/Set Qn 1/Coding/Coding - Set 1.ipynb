{
 "cells": [
  {
   "cell_type": "markdown",
   "id": "7560fa0d-58f5-48cc-a824-f6d44e23c6e9",
   "metadata": {},
   "source": [
    "# Qn 1"
   ]
  },
  {
   "cell_type": "code",
   "execution_count": 1,
   "id": "349c3473-30bf-47cf-8110-63eb558928e3",
   "metadata": {},
   "outputs": [],
   "source": [
    "import warnings\n",
    "warnings.filterwarnings('ignore')"
   ]
  },
  {
   "cell_type": "code",
   "execution_count": 6,
   "id": "a6b8746d-081f-4e7f-a4df-620b1250ac2a",
   "metadata": {},
   "outputs": [
    {
     "name": "stdout",
     "output_type": "stream",
     "text": [
      "Total Purchases per Customer:\n",
      "   Customer_ID  Purchase_Amount\n",
      "0          101              520\n",
      "1          102              600\n",
      "2          103              480\n",
      "3          104              300\n",
      "4          105              400\n",
      "\n",
      "Top 3 Frequent Customers:\n",
      "   Customer_ID  Purchase_Amount\n",
      "1          102              600\n",
      "0          101              520\n",
      "2          103              480\n"
     ]
    }
   ],
   "source": [
    "import pandas as pd\n",
    "\n",
    "# Creating a DataFrame\n",
    "data = {'Customer_ID': [101, 102, 103, 101, 104, 102, 101, 105, 102, 103],\n",
    "        'Purchase_Amount': [200, 150, 180, 220, 300, 200, 100, 400, 250, 300]}\n",
    "df = pd.DataFrame(data)\n",
    "\n",
    "# Grouping by Customer_ID and calculating total purchases\n",
    "total_purchases = df.groupby('Customer_ID')['Purchase_Amount'].sum().reset_index()\n",
    "\n",
    "# Finding the top 3 frequent customers\n",
    "top_customers = total_purchases.sort_values(by='Purchase_Amount', ascending=False).head(3)\n",
    "\n",
    "print(\"Total Purchases per Customer:\")\n",
    "print(total_purchases)\n",
    "print(\"\\nTop 3 Frequent Customers:\")\n",
    "print(top_customers)"
   ]
  },
  {
   "cell_type": "markdown",
   "id": "2b47e4a2-fa52-4735-9ead-6dcf53d4e8f5",
   "metadata": {},
   "source": [
    "# Qn2"
   ]
  },
  {
   "cell_type": "code",
   "execution_count": 7,
   "id": "bd406461-902b-430e-9bba-e29ee08aafa6",
   "metadata": {},
   "outputs": [],
   "source": [
    "import pandas as pd\n",
    "import numpy as np\n",
    "\n",
    "# Creating the DataFrame\n",
    "data = {'Day': range(1, 31),\n",
    "        'Sales': [25, 30, 28, 45, 55, 60, 22, 80, 95, 120,\n",
    "                  33, 29, 27, 35, 40, 50, 85, 110, 105, 92,\n",
    "                  30, 34, 31, 33, 36, 42, 44, 48, 90, 200]}\n",
    "df=pd.DataFrame(data)"
   ]
  },
  {
   "cell_type": "code",
   "execution_count": 11,
   "id": "b0217901-7748-4959-be9b-ef8ef8082b2a",
   "metadata": {},
   "outputs": [
    {
     "name": "stdout",
     "output_type": "stream",
     "text": [
      "Q1:31.5,Q3:83.75,IQR:52.25\n"
     ]
    }
   ],
   "source": [
    "Q1,Q3 = np.percentile(df['Sales'],[25,75])\n",
    "IQR = Q3 - Q1\n",
    "\n",
    "print(f\"Q1:{Q1},Q3:{Q3},IQR:{IQR}\")"
   ]
  },
  {
   "cell_type": "code",
   "execution_count": 13,
   "id": "c22544fa-01ca-45f6-837a-4505bfb8ea6b",
   "metadata": {},
   "outputs": [
    {
     "name": "stdout",
     "output_type": "stream",
     "text": [
      "Lower Bound: -46.875, Upper Bound: 162.125\n",
      "Outliers:      Day  Sales\n",
      "29   30    200\n"
     ]
    }
   ],
   "source": [
    "lower_bound = Q1 - 1.5 * IQR\n",
    "upper_bound = Q3 + 1.5 * IQR\n",
    "\n",
    "outliers = df[(df['Sales'] < lower_bound) | (df['Sales'] > upper_bound)]\n",
    "\n",
    "print(f\"Lower Bound: {lower_bound}, Upper Bound: {upper_bound}\")\n",
    "print(\"Outliers: \",outliers)"
   ]
  },
  {
   "cell_type": "code",
   "execution_count": 19,
   "id": "fc521df9-2e13-4d25-b4c4-980431316047",
   "metadata": {},
   "outputs": [
    {
     "name": "stdout",
     "output_type": "stream",
     "text": [
      "    Day  Sales\n",
      "0     1   25.0\n",
      "1     2   30.0\n",
      "2     3   28.0\n",
      "3     4   45.0\n",
      "4     5   55.0\n",
      "5     6   60.0\n",
      "6     7   22.0\n",
      "7     8   80.0\n",
      "8     9   95.0\n",
      "9    10  120.0\n",
      "10   11   33.0\n",
      "11   12   29.0\n",
      "12   13   27.0\n",
      "13   14   35.0\n",
      "14   15   40.0\n",
      "15   16   50.0\n",
      "16   17   85.0\n",
      "17   18  110.0\n",
      "18   19  105.0\n",
      "19   20   92.0\n",
      "20   21   30.0\n",
      "21   22   34.0\n",
      "22   23   31.0\n",
      "23   24   33.0\n",
      "24   25   36.0\n",
      "25   26   42.0\n",
      "26   27   44.0\n",
      "27   28   48.0\n",
      "28   29   90.0\n",
      "29   30   43.0\n"
     ]
    }
   ],
   "source": [
    "median_value = df['Sales'].median()\n",
    "\n",
    "df['Sales'] = np.where((df['Sales'] < lower_bound) | (df['Sales'] > upper_bound), median_value, df['Sales'])\n",
    "print(df)"
   ]
  },
  {
   "cell_type": "markdown",
   "id": "888cac3e-ca05-4e24-8fcb-a89ba56b82b6",
   "metadata": {},
   "source": [
    " # Qn3"
   ]
  },
  {
   "cell_type": "code",
   "execution_count": 22,
   "id": "3aab320e-ed0b-4564-a8eb-f8abcda2e05c",
   "metadata": {},
   "outputs": [
    {
     "data": {
      "text/html": [
       "<div>\n",
       "<style scoped>\n",
       "    .dataframe tbody tr th:only-of-type {\n",
       "        vertical-align: middle;\n",
       "    }\n",
       "\n",
       "    .dataframe tbody tr th {\n",
       "        vertical-align: top;\n",
       "    }\n",
       "\n",
       "    .dataframe thead th {\n",
       "        text-align: right;\n",
       "    }\n",
       "</style>\n",
       "<table border=\"1\" class=\"dataframe\">\n",
       "  <thead>\n",
       "    <tr style=\"text-align: right;\">\n",
       "      <th></th>\n",
       "      <th>Group</th>\n",
       "      <th>Blood_Pressure</th>\n",
       "    </tr>\n",
       "  </thead>\n",
       "  <tbody>\n",
       "    <tr>\n",
       "      <th>0</th>\n",
       "      <td>Treatment</td>\n",
       "      <td>120</td>\n",
       "    </tr>\n",
       "    <tr>\n",
       "      <th>1</th>\n",
       "      <td>Treatment</td>\n",
       "      <td>115</td>\n",
       "    </tr>\n",
       "    <tr>\n",
       "      <th>2</th>\n",
       "      <td>Treatment</td>\n",
       "      <td>118</td>\n",
       "    </tr>\n",
       "    <tr>\n",
       "      <th>3</th>\n",
       "      <td>Treatment</td>\n",
       "      <td>123</td>\n",
       "    </tr>\n",
       "    <tr>\n",
       "      <th>4</th>\n",
       "      <td>Treatment</td>\n",
       "      <td>122</td>\n",
       "    </tr>\n",
       "    <tr>\n",
       "      <th>5</th>\n",
       "      <td>Treatment</td>\n",
       "      <td>119</td>\n",
       "    </tr>\n",
       "    <tr>\n",
       "      <th>6</th>\n",
       "      <td>Treatment</td>\n",
       "      <td>124</td>\n",
       "    </tr>\n",
       "    <tr>\n",
       "      <th>7</th>\n",
       "      <td>Treatment</td>\n",
       "      <td>117</td>\n",
       "    </tr>\n",
       "    <tr>\n",
       "      <th>8</th>\n",
       "      <td>Treatment</td>\n",
       "      <td>116</td>\n",
       "    </tr>\n",
       "    <tr>\n",
       "      <th>9</th>\n",
       "      <td>Treatment</td>\n",
       "      <td>121</td>\n",
       "    </tr>\n",
       "    <tr>\n",
       "      <th>10</th>\n",
       "      <td>Control</td>\n",
       "      <td>130</td>\n",
       "    </tr>\n",
       "    <tr>\n",
       "      <th>11</th>\n",
       "      <td>Control</td>\n",
       "      <td>135</td>\n",
       "    </tr>\n",
       "    <tr>\n",
       "      <th>12</th>\n",
       "      <td>Control</td>\n",
       "      <td>140</td>\n",
       "    </tr>\n",
       "    <tr>\n",
       "      <th>13</th>\n",
       "      <td>Control</td>\n",
       "      <td>138</td>\n",
       "    </tr>\n",
       "    <tr>\n",
       "      <th>14</th>\n",
       "      <td>Control</td>\n",
       "      <td>142</td>\n",
       "    </tr>\n",
       "    <tr>\n",
       "      <th>15</th>\n",
       "      <td>Control</td>\n",
       "      <td>136</td>\n",
       "    </tr>\n",
       "    <tr>\n",
       "      <th>16</th>\n",
       "      <td>Control</td>\n",
       "      <td>139</td>\n",
       "    </tr>\n",
       "    <tr>\n",
       "      <th>17</th>\n",
       "      <td>Control</td>\n",
       "      <td>134</td>\n",
       "    </tr>\n",
       "    <tr>\n",
       "      <th>18</th>\n",
       "      <td>Control</td>\n",
       "      <td>137</td>\n",
       "    </tr>\n",
       "    <tr>\n",
       "      <th>19</th>\n",
       "      <td>Control</td>\n",
       "      <td>141</td>\n",
       "    </tr>\n",
       "  </tbody>\n",
       "</table>\n",
       "</div>"
      ],
      "text/plain": [
       "        Group  Blood_Pressure\n",
       "0   Treatment             120\n",
       "1   Treatment             115\n",
       "2   Treatment             118\n",
       "3   Treatment             123\n",
       "4   Treatment             122\n",
       "5   Treatment             119\n",
       "6   Treatment             124\n",
       "7   Treatment             117\n",
       "8   Treatment             116\n",
       "9   Treatment             121\n",
       "10    Control             130\n",
       "11    Control             135\n",
       "12    Control             140\n",
       "13    Control             138\n",
       "14    Control             142\n",
       "15    Control             136\n",
       "16    Control             139\n",
       "17    Control             134\n",
       "18    Control             137\n",
       "19    Control             141"
      ]
     },
     "execution_count": 22,
     "metadata": {},
     "output_type": "execute_result"
    }
   ],
   "source": [
    "import pandas as pd\n",
    "from scipy import stats\n",
    "# Creating the DataFrame\n",
    "data = {'Group': ['Treatment']*10 + ['Control']*10,\n",
    "        'Blood_Pressure': [120, 115, 118, 123, 122, 119, 124, 117, 116, 121,\n",
    "                            130, 135, 140, 138, 142, 136, 139, 134, 137, 141]}\n",
    "\n",
    "df = pd.DataFrame(data)\n",
    "df"
   ]
  },
  {
   "cell_type": "code",
   "execution_count": 23,
   "id": "987f9c11-152b-4c91-b7bd-b17204779512",
   "metadata": {},
   "outputs": [
    {
     "name": "stdout",
     "output_type": "stream",
     "text": [
      "T-Statistic: -11.870553692962726\n",
      "P-Value: 6.008066605173374e-10\n"
     ]
    }
   ],
   "source": [
    "treatment_group = df[df['Group'] == 'Treatment']['Blood_Pressure']\n",
    "control_group = df[df['Group'] == 'Control']['Blood_Pressure']\n",
    "\n",
    "t_stat, p_value = stats.ttest_ind(treatment_group, control_group)\n",
    "print(f\"T-Statistic: {t_stat}\")\n",
    "print(f\"P-Value: {p_value}\")"
   ]
  },
  {
   "cell_type": "code",
   "execution_count": 24,
   "id": "6e05becd-7cb5-4319-8ed7-ae30905fe33e",
   "metadata": {},
   "outputs": [
    {
     "name": "stdout",
     "output_type": "stream",
     "text": [
      "Reject the Null Hypothesis: The drug has a significant effect.\n"
     ]
    }
   ],
   "source": [
    "p = 0.05\n",
    "if p_value < p:\n",
    "    print(\"Reject the Null Hypothesis: The drug has a significant effect.\")\n",
    "else:\n",
    "    print(\"Accpet the Null Hypothesis: The drug has no significant effect.\")"
   ]
  },
  {
   "cell_type": "markdown",
   "id": "8fb7383e-dd62-49a0-a0c4-55828a50de6e",
   "metadata": {},
   "source": [
    "# Qn4"
   ]
  },
  {
   "cell_type": "code",
   "execution_count": 25,
   "id": "4ffc6dba-9666-4fa0-a8bd-1dc55b73cc66",
   "metadata": {},
   "outputs": [
    {
     "data": {
      "text/html": [
       "<div>\n",
       "<style scoped>\n",
       "    .dataframe tbody tr th:only-of-type {\n",
       "        vertical-align: middle;\n",
       "    }\n",
       "\n",
       "    .dataframe tbody tr th {\n",
       "        vertical-align: top;\n",
       "    }\n",
       "\n",
       "    .dataframe thead th {\n",
       "        text-align: right;\n",
       "    }\n",
       "</style>\n",
       "<table border=\"1\" class=\"dataframe\">\n",
       "  <thead>\n",
       "    <tr style=\"text-align: right;\">\n",
       "      <th></th>\n",
       "      <th>Region</th>\n",
       "      <th>TV_Ad_Budget</th>\n",
       "      <th>Social_Media_Budget</th>\n",
       "      <th>Sales</th>\n",
       "    </tr>\n",
       "  </thead>\n",
       "  <tbody>\n",
       "    <tr>\n",
       "      <th>0</th>\n",
       "      <td>North</td>\n",
       "      <td>200</td>\n",
       "      <td>150</td>\n",
       "      <td>20</td>\n",
       "    </tr>\n",
       "    <tr>\n",
       "      <th>1</th>\n",
       "      <td>South</td>\n",
       "      <td>300</td>\n",
       "      <td>250</td>\n",
       "      <td>35</td>\n",
       "    </tr>\n",
       "    <tr>\n",
       "      <th>2</th>\n",
       "      <td>East</td>\n",
       "      <td>400</td>\n",
       "      <td>300</td>\n",
       "      <td>50</td>\n",
       "    </tr>\n",
       "    <tr>\n",
       "      <th>3</th>\n",
       "      <td>West</td>\n",
       "      <td>500</td>\n",
       "      <td>450</td>\n",
       "      <td>60</td>\n",
       "    </tr>\n",
       "    <tr>\n",
       "      <th>4</th>\n",
       "      <td>Central</td>\n",
       "      <td>600</td>\n",
       "      <td>500</td>\n",
       "      <td>80</td>\n",
       "    </tr>\n",
       "  </tbody>\n",
       "</table>\n",
       "</div>"
      ],
      "text/plain": [
       "    Region  TV_Ad_Budget  Social_Media_Budget  Sales\n",
       "0    North           200                  150     20\n",
       "1    South           300                  250     35\n",
       "2     East           400                  300     50\n",
       "3     West           500                  450     60\n",
       "4  Central           600                  500     80"
      ]
     },
     "execution_count": 25,
     "metadata": {},
     "output_type": "execute_result"
    }
   ],
   "source": [
    "import pandas as pd\n",
    "import numpy as np\n",
    "\n",
    "# Creating DataFrame\n",
    "data = {\n",
    "    'Region': ['North', 'South', 'East', 'West', 'Central'],\n",
    "    'TV_Ad_Budget': [200, 300, 400, 500, 600],\n",
    "    'Social_Media_Budget': [150, 250, 300, 450, 500],\n",
    "    'Sales': [20, 35, 50, 60, 80]\n",
    "}\n",
    "df = pd.DataFrame(data)\n",
    "df"
   ]
  },
  {
   "cell_type": "code",
   "execution_count": 26,
   "id": "9e826829-b40b-460d-8398-0a58397194e8",
   "metadata": {},
   "outputs": [
    {
     "name": "stdout",
     "output_type": "stream",
     "text": [
      "Covariance (TV vs Sales): 3625.0\n",
      "Covariance (Social Media vs Sales): 3225.0\n",
      "Correlation (TV vs Sales): 0.9958640886279954\n",
      "Correlation (Social Media vs Sales): 0.9724846021568381\n",
      "TV Ads have a stronger impact on Sales.\n"
     ]
    }
   ],
   "source": [
    "cov_tv = df['TV_Ad_Budget'].cov(df['Sales'])\n",
    "cov_social = df['Social_Media_Budget'].cov(df['Sales'])\n",
    "\n",
    "corr_tv = df['TV_Ad_Budget'].corr(df['Sales'])\n",
    "corr_social = df['Social_Media_Budget'].corr(df['Sales'])\n",
    "\n",
    "print(f\"Covariance (TV vs Sales): {cov_tv}\")\n",
    "print(f\"Covariance (Social Media vs Sales): {cov_social}\")\n",
    "print(f\"Correlation (TV vs Sales): {corr_tv}\")\n",
    "print(f\"Correlation (Social Media vs Sales): {corr_social}\")\n",
    "\n",
    "if abs(corr_tv) > abs(corr_social):\n",
    "    print(\"TV Ads have a stronger impact on Sales.\")\n",
    "else:\n",
    "    print(\"Social Media Ads have a stronger impact on Sales.\")"
   ]
  },
  {
   "cell_type": "markdown",
   "id": "23ce71e1-6b4d-466d-ae6c-9c5c165d7f21",
   "metadata": {},
   "source": [
    "# Qn5"
   ]
  },
  {
   "cell_type": "code",
   "execution_count": 27,
   "id": "d6c61292-3a4f-45ec-911b-b1225eec85fc",
   "metadata": {},
   "outputs": [],
   "source": [
    "import numpy as np\n",
    "import matplotlib.pyplot as plt\n",
    "from scipy.stats import norm\n",
    "\n",
    "# Dataset: Delivery Times in Minutes\n",
    "delivery_times = [25, 30, 28, 45, 55, 60, 22, 80, 95, 120, 33, 29, 27, 35, 40, 50, \n",
    "                   85, 110, 105, 92, 30, 34, 31, 33, 36, 42, 44, 48, 90, 200, 20, \n",
    "                   25, 27, 32, 38, 41, 47, 58, 62, 77, 80, 84, 90, 110, 123, 145, \n",
    "                   150, 160]"
   ]
  },
  {
   "cell_type": "code",
   "execution_count": 28,
   "id": "1e8dce59-457c-4a4b-8876-ae97f510a063",
   "metadata": {},
   "outputs": [
    {
     "name": "stdout",
     "output_type": "stream",
     "text": [
      "Mean Delivery Time: 65.0625\n",
      "Standard Deviation of Delivery Time: 41.718504212759115\n"
     ]
    }
   ],
   "source": [
    "mean_delivery = np.mean(delivery_times)\n",
    "std_dev_delivery = np.std(delivery_times)\n",
    "\n",
    "print(f\"Mean Delivery Time: {mean_delivery}\")\n",
    "print(f\"Standard Deviation of Delivery Time: {std_dev_delivery}\")"
   ]
  },
  {
   "cell_type": "code",
   "execution_count": 30,
   "id": "9a121003-626d-4c2a-ac70-2e38abbc6524",
   "metadata": {},
   "outputs": [
    {
     "data": {
      "image/png": "[encoded data removed]",
      "text/plain": [
       "<Figure size 1000x500 with 1 Axes>"
      ]
     },
     "metadata": {},
     "output_type": "display_data"
    }
   ],
   "source": [
    "x = np.linspace(min(delivery_times), max(delivery_times), 100)\n",
    "pdf = norm.pdf(x, mean_delivery, std_dev_delivery)\n",
    "\n",
    "plt.figure(figsize=(10, 5))\n",
    "plt.plot(x, pdf, label='Normal Distribution (PDF)')\n",
    "plt.xlabel('Delivery Time (minutes)')\n",
    "plt.ylabel('Density')\n",
    "plt.title('PDF')\n",
    "plt.legend()\n",
    "plt.show()"
   ]
  },
  {
   "cell_type": "code",
   "execution_count": null,
   "id": "c55b8143-9205-48a2-b208-d598e01fc17d",
   "metadata": {},
   "outputs": [],
   "source": []
  }
 ],
 "metadata": {
  "kernelspec": {
   "display_name": "Python 3 (ipykernel)",
   "language": "python",
   "name": "python3"
  },
  "language_info": {
   "codemirror_mode": {
    "name": "ipython",
    "version": 3
   },
   "file_extension": ".py",
   "mimetype": "text/x-python",
   "name": "python",
   "nbconvert_exporter": "python",
   "pygments_lexer": "ipython3",
   "version": "3.12.4"
  }
 },
 "nbformat": 4,
 "nbformat_minor": 5
}
